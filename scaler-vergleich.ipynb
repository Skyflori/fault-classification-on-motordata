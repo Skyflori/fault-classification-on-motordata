{
 "cells": [
  {
   "cell_type": "code",
   "execution_count": 24,
   "id": "2432a270",
   "metadata": {},
   "outputs": [],
   "source": [
    "from sklearn.preprocessing import StandardScaler, MinMaxScaler, RobustScaler\n",
    "from sklearn.decomposition import PCA\n",
    "from sklearn.cluster import KMeans, DBSCAN, SpectralClustering\n",
    "from sklearn.mixture import GaussianMixture\n",
    "from sklearn.metrics import adjusted_rand_score, normalized_mutual_info_score, silhouette_score, accuracy_score\n",
    "from sklearn.metrics import confusion_matrix\n",
    "from scipy.optimize import linear_sum_assignment\n",
    "import numpy as np\n",
    "import pandas as pd"
   ]
  },
  {
   "cell_type": "code",
   "execution_count": 25,
   "id": "e023eafe",
   "metadata": {},
   "outputs": [],
   "source": [
    "SHOW_PLOTS = False\n"
   ]
  },
  {
   "cell_type": "code",
   "execution_count": 26,
   "id": "36a5761c",
   "metadata": {},
   "outputs": [
    {
     "name": "stdout",
     "output_type": "stream",
     "text": [
      "(29255, 49)\n",
      "Index(['V1', 'V2', 'V3', 'V4', 'V5', 'V6', 'V7', 'V8', 'V9', 'V10', 'V11',\n",
      "       'V12', 'V13', 'V14', 'V15', 'V16', 'V17', 'V18', 'V19', 'V20', 'V21',\n",
      "       'V22', 'V23', 'V24', 'V25', 'V26', 'V27', 'V28', 'V29', 'V30', 'V31',\n",
      "       'V32', 'V33', 'V34', 'V35', 'V36', 'V37', 'V38', 'V39', 'V40', 'V41',\n",
      "       'V42', 'V43', 'V44', 'V45', 'V46', 'V47', 'V48', 'class'],\n",
      "      dtype='object')\n",
      "             V1            V2        V3            V4            V5  \\\n",
      "0  2.913200e-06 -5.247700e-06  0.000003 -6.056100e-06  2.778900e-06   \n",
      "1 -9.584900e-07  5.214300e-08 -0.000047  6.453700e-07 -2.304100e-06   \n",
      "2 -2.566600e-06 -1.679500e-07  0.000015 -1.598400e-06  8.709200e-07   \n",
      "3  2.825600e-06  6.067600e-06  0.000118 -4.347500e-06  1.492300e-06   \n",
      "4 -6.573800e-07 -3.951900e-07  0.000032 -5.296100e-06 -1.605800e-06   \n",
      "\n",
      "             V6        V7        V8        V9       V10  ...      V40  \\\n",
      "0 -3.752400e-06  0.030804  0.030810  0.030806 -0.033520  ... -0.59314   \n",
      "1  5.499900e-05  0.031154  0.031154  0.031201 -0.032789  ... -0.61124   \n",
      "2  1.496100e-05  0.031071  0.031071  0.031056 -0.029695  ... -0.63618   \n",
      "3 -2.917100e-06  0.030947  0.030941  0.030823 -0.032171  ... -0.58170   \n",
      "4  7.566000e-07  0.029416  0.029416  0.029385 -0.028420  ... -0.59578   \n",
      "\n",
      "       V41      V42     V43     V44     V45     V46     V47     V48  class  \n",
      "0   7.6252   6.1690 -1.4967 -1.4967 -1.4967 -1.5005 -1.5005 -1.5005      1  \n",
      "1   5.8337  18.6970 -1.4956 -1.4956 -1.4956 -1.4973 -1.4972 -1.4973      1  \n",
      "2  12.8380   4.9079 -1.4990 -1.4990 -1.4990 -1.4968 -1.4968 -1.4968      1  \n",
      "3   2.0511   8.8939 -1.4963 -1.4963 -1.4963 -1.4943 -1.4943 -1.4943      1  \n",
      "4   5.3394  13.3550 -1.4984 -1.4984 -1.4984 -1.4970 -1.4970 -1.4970      1  \n",
      "\n",
      "[5 rows x 49 columns]\n"
     ]
    }
   ],
   "source": [
    "\n",
    "df = pd.read_csv(\"dc_motor_data.csv\")\n",
    "\n",
    "# Übersicht\n",
    "print(df.shape)         # z. B. (58509, 49) → 48 Features + 1 Label\n",
    "print(df.columns)       # Zeigt die Spaltennamen\n",
    "print(df.head())        # Erste 5 Zeilen\n"
   ]
  },
  {
   "cell_type": "code",
   "execution_count": 27,
   "id": "88186886",
   "metadata": {},
   "outputs": [],
   "source": [
    "# Features (ohne Label)\n",
    "X = df.drop(columns=[\"class\"])\n",
    "\n",
    "# Zielvariable / Labels\n",
    "y = df[\"class\"]\n"
   ]
  },
  {
   "cell_type": "code",
   "execution_count": 28,
   "id": "5eba0653",
   "metadata": {},
   "outputs": [
    {
     "name": "stdout",
     "output_type": "stream",
     "text": [
      "\n",
      " Scaler: StandardScaler\n",
      "  KMeans       | ARI: 0.0599 | NMI: 0.1617 | Sil: 0.2297 | Acc: 0.1818\n",
      "  GMM          | ARI: 0.0575 | NMI: 0.1529 | Sil: 0.1745 | Acc: 0.1823\n",
      "  DBSCAN       | ARI: 0.0000 | NMI: 0.0010 | Sil: -0.2505 | Acc: 0.3913\n"
     ]
    },
    {
     "name": "stderr",
     "output_type": "stream",
     "text": [
      "C:\\Users\\Isabell Krüger\\AppData\\Local\\Packages\\PythonSoftwareFoundation.Python.3.11_qbz5n2kfra8p0\\LocalCache\\local-packages\\Python311\\site-packages\\sklearn\\manifold\\_spectral_embedding.py:273: UserWarning: Graph is not fully connected, spectral embedding may not work as expected.\n",
      "  warnings.warn(\n"
     ]
    },
    {
     "name": "stdout",
     "output_type": "stream",
     "text": [
      "  Spectral     | ARI: 0.0333 | NMI: 0.2153 | Sil: 0.0584 | Acc: 0.1440\n",
      "\n",
      " Scaler: MinMaxScaler\n",
      "  KMeans       | ARI: 0.1667 | NMI: 0.3721 | Sil: 0.2632 | Acc: 0.2885\n",
      "  GMM          | ARI: 0.1889 | NMI: 0.4099 | Sil: 0.0841 | Acc: 0.2977\n",
      "  DBSCAN       | ARI: 0.0393 | NMI: 0.2268 | Sil: 0.3989 | Acc: 0.1844\n"
     ]
    },
    {
     "name": "stderr",
     "output_type": "stream",
     "text": [
      "C:\\Users\\Isabell Krüger\\AppData\\Local\\Packages\\PythonSoftwareFoundation.Python.3.11_qbz5n2kfra8p0\\LocalCache\\local-packages\\Python311\\site-packages\\sklearn\\manifold\\_spectral_embedding.py:273: UserWarning: Graph is not fully connected, spectral embedding may not work as expected.\n",
      "  warnings.warn(\n"
     ]
    },
    {
     "name": "stdout",
     "output_type": "stream",
     "text": [
      "  Spectral     | ARI: 0.0488 | NMI: 0.2516 | Sil: -0.0982 | Acc: 0.2053\n",
      "\n",
      "Scaler: RobustScaler\n",
      "  KMeans       | ARI: 0.0000 | NMI: 0.0008 | Sil: 0.9898 | Acc: 0.0927\n",
      "  GMM          | ARI: 0.0000 | NMI: 0.0008 | Sil: 0.9898 | Acc: 0.0927\n",
      "  DBSCAN       | ARI: 0.0000 | NMI: 0.0101 | Sil: -0.5251 | Acc: 0.4450\n",
      "  Spectral     | ARI: 0.0889 | NMI: 0.2647 | Sil: -0.0394 | Acc: 0.2137\n",
      "\n",
      " Scaler: Log+StandardScaler\n",
      "  KMeans       | ARI: 0.0545 | NMI: 0.1506 | Sil: 0.2313 | Acc: 0.1812\n",
      "  GMM          | ARI: 0.0941 | NMI: 0.1493 | Sil: 0.1589 | Acc: 0.2196\n",
      "  DBSCAN       | ARI: -0.0000 | NMI: 0.0021 | Sil: -0.3176 | Acc: 0.5405\n"
     ]
    },
    {
     "name": "stderr",
     "output_type": "stream",
     "text": [
      "C:\\Users\\Isabell Krüger\\AppData\\Local\\Packages\\PythonSoftwareFoundation.Python.3.11_qbz5n2kfra8p0\\LocalCache\\local-packages\\Python311\\site-packages\\sklearn\\manifold\\_spectral_embedding.py:273: UserWarning: Graph is not fully connected, spectral embedding may not work as expected.\n",
      "  warnings.warn(\n"
     ]
    },
    {
     "name": "stdout",
     "output_type": "stream",
     "text": [
      "  Spectral     | ARI: 0.0333 | NMI: 0.2151 | Sil: 0.0684 | Acc: 0.1441\n"
     ]
    }
   ],
   "source": [
    "\n",
    "# Accuracy via optimal label mapping (Hungarian Algorithmus)\n",
    "def cluster_accuracy(y_true, y_pred):\n",
    "    cm = confusion_matrix(y_true, y_pred)\n",
    "    row_ind, col_ind = linear_sum_assignment(-cm)\n",
    "    mapping = dict(zip(col_ind, row_ind))\n",
    "    y_aligned = [mapping[label] if label in mapping else -1 for label in y_pred]\n",
    "    return accuracy_score(y_true, y_aligned)\n",
    "\n",
    "# Setup\n",
    "scalers = {\n",
    "    \"StandardScaler\": StandardScaler(),\n",
    "    \"MinMaxScaler\": MinMaxScaler(),\n",
    "    \"RobustScaler\": RobustScaler(),\n",
    "    \"Log+StandardScaler\": \"log_std\"\n",
    "}\n",
    "\n",
    "clusterers = {\n",
    "    \"KMeans\": lambda X: KMeans(n_clusters=11, random_state=42, n_init=20).fit_predict(X),\n",
    "    \"GMM\": lambda X: GaussianMixture(n_components=11, random_state=42).fit(X).predict(X),\n",
    "    \"DBSCAN\": lambda X: DBSCAN(eps=0.5, min_samples=5).fit_predict(X),\n",
    "    \"Spectral\": lambda X: SpectralClustering(n_clusters=11, random_state=42, assign_labels='kmeans', affinity='nearest_neighbors').fit_predict(X),\n",
    "}\n",
    "\n",
    "results = []\n",
    "\n",
    "for scaler_name, scaler in scalers.items():\n",
    "    print(f\"\\n Scaler: {scaler_name}\")\n",
    "    \n",
    "    # Skalierung vorbereiten\n",
    "    if scaler_name == \"Log+StandardScaler\":\n",
    "        X_shifted = X - X.min().min() + 1e-6\n",
    "        X_log = np.log(X_shifted)\n",
    "        X_scaled = StandardScaler().fit_transform(X_log)\n",
    "    else:\n",
    "        X_scaled = scaler.fit_transform(X)\n",
    "\n",
    "    # Optional: PCA zur Dimensionsreduktion (10D, nicht 2D!)\n",
    "    pca = PCA(n_components=10)\n",
    "    X_reduced = pca.fit_transform(X_scaled)\n",
    "\n",
    "    for cluster_name, cluster_fn in clusterers.items():\n",
    "        try:\n",
    "            labels = cluster_fn(X_reduced)\n",
    "\n",
    "            # DBSCAN kann Label -1 (Rauswurf) enthalten – bei Accuracy entfernen\n",
    "            valid_idx = labels != -1\n",
    "            y_valid = y[valid_idx]\n",
    "            labels_valid = np.array(labels)[valid_idx]\n",
    "\n",
    "            ari = adjusted_rand_score(y, labels)\n",
    "            nmi = normalized_mutual_info_score(y, labels)\n",
    "            sil = silhouette_score(X_reduced, labels) if len(set(labels)) > 1 else -1\n",
    "            acc = cluster_accuracy(y_valid, labels_valid) if len(set(labels_valid)) > 1 else -1\n",
    "\n",
    "            results.append((scaler_name, cluster_name, ari, nmi, sil, acc))\n",
    "\n",
    "            print(f\"  {cluster_name.ljust(12)} | ARI: {ari:.4f} | NMI: {nmi:.4f} | Sil: {sil:.4f} | Acc: {acc:.4f}\")\n",
    "        \n",
    "        except Exception as e:\n",
    "            print(f\"  {cluster_name.ljust(12)} | Error: {e}\")\n",
    "            results.append((scaler_name, cluster_name, -1, -1, -1, -1))\n",
    "\n"
   ]
  },
  {
   "cell_type": "code",
   "execution_count": 30,
   "id": "532f1f3e",
   "metadata": {},
   "outputs": [
    {
     "name": "stdout",
     "output_type": "stream",
     "text": [
      "\n",
      " Vergleichstabelle:\n",
      "            Scaler Clusterer           ARI      NMI  Silhouette  Accuracy\n",
      "      MinMaxScaler       GMM  1.889053e-01 0.409898    0.084145  0.297659\n",
      "      MinMaxScaler    KMeans  1.667088e-01 0.372146    0.263182  0.288532\n",
      "Log+StandardScaler       GMM  9.409728e-02 0.149313    0.158948  0.219621\n",
      "      RobustScaler  Spectral  8.886618e-02 0.264723   -0.039378  0.213741\n",
      "    StandardScaler    KMeans  5.986334e-02 0.161718    0.229730  0.181781\n",
      "    StandardScaler       GMM  5.746371e-02 0.152904    0.174510  0.182328\n",
      "Log+StandardScaler    KMeans  5.452684e-02 0.150627    0.231300  0.181200\n",
      "      MinMaxScaler  Spectral  4.879415e-02 0.251627   -0.098249  0.205298\n",
      "      MinMaxScaler    DBSCAN  3.926015e-02 0.226814    0.398877  0.184389\n",
      "    StandardScaler  Spectral  3.333202e-02 0.215259    0.058449  0.144044\n",
      "Log+StandardScaler  Spectral  3.331771e-02 0.215112    0.068356  0.144078\n",
      "      RobustScaler    DBSCAN  4.784227e-06 0.010064   -0.525128  0.444976\n",
      "    StandardScaler    DBSCAN  6.519149e-07 0.001030   -0.250458  0.391304\n",
      "      RobustScaler    KMeans  4.166591e-08 0.000793    0.989838  0.092736\n",
      "      RobustScaler       GMM  4.166591e-08 0.000793    0.989838  0.092736\n",
      "Log+StandardScaler    DBSCAN -1.188061e-06 0.002054   -0.317633  0.540541\n"
     ]
    }
   ],
   "source": [
    "# Ergebnisse anzeigen (lokal)\n",
    "print(\"\\n📊 Vergleichstabelle:\")\n",
    "print(df_results.to_string(index=False))\n"
   ]
  },
  {
   "cell_type": "markdown",
   "id": "175d05f0",
   "metadata": {},
   "source": [
    "Überbleibsel"
   ]
  },
  {
   "cell_type": "code",
   "execution_count": 13,
   "id": "40ffeefe",
   "metadata": {},
   "outputs": [
    {
     "name": "stdout",
     "output_type": "stream",
     "text": [
      "  ARI=0.0620 | NMI=0.1620 | Silhouette=0.2368 | Accuracy=0.1976\n"
     ]
    }
   ],
   "source": [
    "from sklearn.metrics import accuracy_score\n",
    "from scipy.optimize import linear_sum_assignment\n",
    "from sklearn.metrics import confusion_matrix\n",
    "\n",
    "def cluster_accuracy(y_true, y_pred):\n",
    "    \"\"\"Berechnet bestmögliche Accuracy durch Matching der Cluster-Labels zu Klassen\"\"\"\n",
    "    cm = confusion_matrix(y_true, y_pred)\n",
    "    row_ind, col_ind = linear_sum_assignment(-cm)  # Maximiert Übereinstimmung\n",
    "    optimal_mapping = dict(zip(col_ind, row_ind))\n",
    "    y_aligned = [optimal_mapping[label] for label in y_pred]\n",
    "    acc = accuracy_score(y_true, y_aligned)\n",
    "    return acc\n",
    "\n",
    "\n",
    "acc = cluster_accuracy(y, cluster_labels)\n",
    "results.append((name, k, ari, nmi, silhouette, acc))\n",
    "print(f\"  ARI={ari:.4f} | NMI={nmi:.4f} | Silhouette={silhouette:.4f} | Accuracy={acc:.4f}\")\n"
   ]
  },
  {
   "cell_type": "code",
   "execution_count": 12,
   "id": "57a6b246",
   "metadata": {},
   "outputs": [
    {
     "name": "stdout",
     "output_type": "stream",
     "text": [
      "\n",
      " Vergleich aller Scaler:\n",
      "Scaler                    ARI      NMI   Silhouette\n"
     ]
    },
    {
     "ename": "ValueError",
     "evalue": "too many values to unpack (expected 4)",
     "output_type": "error",
     "traceback": [
      "\u001b[1;31m---------------------------------------------------------------------------\u001b[0m",
      "\u001b[1;31mValueError\u001b[0m                                Traceback (most recent call last)",
      "Cell \u001b[1;32mIn[12], line 4\u001b[0m\n\u001b[0;32m      2\u001b[0m \u001b[38;5;28mprint\u001b[39m(\u001b[38;5;124m\"\u001b[39m\u001b[38;5;130;01m\\n\u001b[39;00m\u001b[38;5;124m🔍 Vergleich aller Scaler:\u001b[39m\u001b[38;5;124m\"\u001b[39m)\n\u001b[0;32m      3\u001b[0m \u001b[38;5;28mprint\u001b[39m(\u001b[38;5;124m\"\u001b[39m\u001b[38;5;124mScaler\u001b[39m\u001b[38;5;124m\"\u001b[39m\u001b[38;5;241m.\u001b[39mljust(\u001b[38;5;241m20\u001b[39m), \u001b[38;5;124m\"\u001b[39m\u001b[38;5;124mARI\u001b[39m\u001b[38;5;124m\"\u001b[39m\u001b[38;5;241m.\u001b[39mrjust(\u001b[38;5;241m8\u001b[39m), \u001b[38;5;124m\"\u001b[39m\u001b[38;5;124mNMI\u001b[39m\u001b[38;5;124m\"\u001b[39m\u001b[38;5;241m.\u001b[39mrjust(\u001b[38;5;241m8\u001b[39m), \u001b[38;5;124m\"\u001b[39m\u001b[38;5;124mSilhouette\u001b[39m\u001b[38;5;124m\"\u001b[39m\u001b[38;5;241m.\u001b[39mrjust(\u001b[38;5;241m12\u001b[39m))\n\u001b[1;32m----> 4\u001b[0m \u001b[38;5;28;01mfor\u001b[39;00m name, ari, sil, nmi \u001b[38;5;129;01min\u001b[39;00m results:\n\u001b[0;32m      5\u001b[0m     \u001b[38;5;28mprint\u001b[39m(\u001b[38;5;124mf\u001b[39m\u001b[38;5;124m\"\u001b[39m\u001b[38;5;132;01m{\u001b[39;00mname\u001b[38;5;241m.\u001b[39mljust(\u001b[38;5;241m20\u001b[39m)\u001b[38;5;132;01m}\u001b[39;00m\u001b[38;5;124m \u001b[39m\u001b[38;5;132;01m{\u001b[39;00mari\u001b[38;5;132;01m:\u001b[39;00m\u001b[38;5;124m8.4f\u001b[39m\u001b[38;5;132;01m}\u001b[39;00m\u001b[38;5;124m \u001b[39m\u001b[38;5;132;01m{\u001b[39;00mnmi\u001b[38;5;132;01m:\u001b[39;00m\u001b[38;5;124m8.4f\u001b[39m\u001b[38;5;132;01m}\u001b[39;00m\u001b[38;5;124m \u001b[39m\u001b[38;5;132;01m{\u001b[39;00msil\u001b[38;5;132;01m:\u001b[39;00m\u001b[38;5;124m12.4f\u001b[39m\u001b[38;5;132;01m}\u001b[39;00m\u001b[38;5;124m\"\u001b[39m)\n",
      "\u001b[1;31mValueError\u001b[0m: too many values to unpack (expected 4)"
     ]
    }
   ],
   "source": [
    "# Zusammenfassung\n",
    "print(\"\\n🔍 Vergleich aller Scaler:\")\n",
    "print(\"Scaler\".ljust(20), \"ARI\".rjust(8), \"NMI\".rjust(8), \"Silhouette\".rjust(12))\n",
    "for name, ari, sil, nmi in results:\n",
    "    print(f\"{name.ljust(20)} {ari:8.4f} {nmi:8.4f} {sil:12.4f}\")\n"
   ]
  }
 ],
 "metadata": {
  "kernelspec": {
   "display_name": "Python 3",
   "language": "python",
   "name": "python3"
  },
  "language_info": {
   "codemirror_mode": {
    "name": "ipython",
    "version": 3
   },
   "file_extension": ".py",
   "mimetype": "text/x-python",
   "name": "python",
   "nbconvert_exporter": "python",
   "pygments_lexer": "ipython3",
   "version": "3.11.9"
  }
 },
 "nbformat": 4,
 "nbformat_minor": 5
}
